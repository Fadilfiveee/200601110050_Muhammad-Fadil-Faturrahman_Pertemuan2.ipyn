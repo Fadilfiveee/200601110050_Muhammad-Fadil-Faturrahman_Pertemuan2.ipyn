{
 "cells": [
  {
   "cell_type": "code",
   "execution_count": 1,
   "id": "927e61a7-7244-49f6-9234-c109ec2abbaa",
   "metadata": {},
   "outputs": [],
   "source": [
    "s1='PyQt'"
   ]
  },
  {
   "cell_type": "code",
   "execution_count": 2,
   "id": "04f2638d-dbc5-43e5-a06c-fa7591b08b22",
   "metadata": {},
   "outputs": [
    {
     "data": {
      "text/plain": [
       "'PyQt'"
      ]
     },
     "execution_count": 2,
     "metadata": {},
     "output_type": "execute_result"
    }
   ],
   "source": [
    "s1"
   ]
  },
  {
   "cell_type": "code",
   "execution_count": 3,
   "id": "59e565c4-a86e-465e-b8bd-c7fac14f4e80",
   "metadata": {},
   "outputs": [],
   "source": [
    "s2=\"Python\""
   ]
  },
  {
   "cell_type": "code",
   "execution_count": 4,
   "id": "6cdd5f00-bae7-479c-bbb4-1daa86882cd8",
   "metadata": {},
   "outputs": [
    {
     "data": {
      "text/plain": [
       "'Python'"
      ]
     },
     "execution_count": 4,
     "metadata": {},
     "output_type": "execute_result"
    }
   ],
   "source": [
    "s2"
   ]
  },
  {
   "cell_type": "code",
   "execution_count": 5,
   "id": "e723b18d-8e02-469d-bfad-d8133218daf8",
   "metadata": {},
   "outputs": [],
   "source": [
    "s3=''' Dwi Nur Muhammad Wildan Mashudi '''"
   ]
  },
  {
   "cell_type": "code",
   "execution_count": 6,
   "id": "461a7f17-5f6c-45af-bba1-025c3c99c8ed",
   "metadata": {},
   "outputs": [
    {
     "data": {
      "text/plain": [
       "' Dwi Nur Muhammad Wildan Mashudi '"
      ]
     },
     "execution_count": 6,
     "metadata": {},
     "output_type": "execute_result"
    }
   ],
   "source": [
    "s3"
   ]
  },
  {
   "cell_type": "code",
   "execution_count": 7,
   "id": "bc1a2dfe-607d-4644-8e99-a799a2f7f1e4",
   "metadata": {},
   "outputs": [],
   "source": [
    "b='python'"
   ]
  },
  {
   "cell_type": "code",
   "execution_count": 8,
   "id": "d7e91e39-8735-4962-b6e4-ed46175cd6b4",
   "metadata": {},
   "outputs": [
    {
     "data": {
      "text/plain": [
       "'python'"
      ]
     },
     "execution_count": 8,
     "metadata": {},
     "output_type": "execute_result"
    }
   ],
   "source": [
    "b"
   ]
  },
  {
   "cell_type": "code",
   "execution_count": 9,
   "id": "d5a737be-9c99-4ed8-abab-a1c896d711ae",
   "metadata": {},
   "outputs": [],
   "source": [
    "b=b.capitalize()"
   ]
  },
  {
   "cell_type": "code",
   "execution_count": 10,
   "id": "524895bd-0717-459b-a4ae-976e87adcd60",
   "metadata": {},
   "outputs": [
    {
     "data": {
      "text/plain": [
       "'Python'"
      ]
     },
     "execution_count": 10,
     "metadata": {},
     "output_type": "execute_result"
    }
   ],
   "source": [
    "b"
   ]
  },
  {
   "cell_type": "code",
   "execution_count": 11,
   "id": "d02bd8de-c3da-433f-a727-76f4bd4bc60a",
   "metadata": {},
   "outputs": [],
   "source": [
    "b=b.upper()"
   ]
  },
  {
   "cell_type": "code",
   "execution_count": 12,
   "id": "cc5cd338-0033-473c-af71-75543277fca0",
   "metadata": {},
   "outputs": [
    {
     "data": {
      "text/plain": [
       "'PYTHON'"
      ]
     },
     "execution_count": 12,
     "metadata": {},
     "output_type": "execute_result"
    }
   ],
   "source": [
    "b"
   ]
  },
  {
   "cell_type": "code",
   "execution_count": 13,
   "id": "92499763-23d3-4a92-ad3a-0b86ece8126f",
   "metadata": {},
   "outputs": [],
   "source": [
    "b=b.lower()"
   ]
  },
  {
   "cell_type": "code",
   "execution_count": 14,
   "id": "45373b7b-fce6-4c82-a4c8-d87877fb1bc1",
   "metadata": {},
   "outputs": [
    {
     "data": {
      "text/plain": [
       "'python'"
      ]
     },
     "execution_count": 14,
     "metadata": {},
     "output_type": "execute_result"
    }
   ],
   "source": [
    "b"
   ]
  },
  {
   "cell_type": "code",
   "execution_count": 15,
   "id": "2cdb5fe0-094c-4365-8782-ee6f3bcf341a",
   "metadata": {},
   "outputs": [
    {
     "data": {
      "text/plain": [
       "False"
      ]
     },
     "execution_count": 15,
     "metadata": {},
     "output_type": "execute_result"
    }
   ],
   "source": [
    "b.isupper()"
   ]
  },
  {
   "cell_type": "code",
   "execution_count": 16,
   "id": "b22d83a6-6453-472d-9ab5-d5f97b7928be",
   "metadata": {},
   "outputs": [
    {
     "data": {
      "text/plain": [
       "True"
      ]
     },
     "execution_count": 16,
     "metadata": {},
     "output_type": "execute_result"
    }
   ],
   "source": [
    "b.islower()"
   ]
  },
  {
   "cell_type": "code",
   "execution_count": 17,
   "id": "1de42732-9a31-4a94-a133-63ee3963a371",
   "metadata": {},
   "outputs": [],
   "source": [
    "s=' '.join(['saya','makan','ayam'])"
   ]
  },
  {
   "cell_type": "code",
   "execution_count": 18,
   "id": "abd2c205-b3a2-4fc9-a4e2-7d363275ec2b",
   "metadata": {},
   "outputs": [
    {
     "data": {
      "text/plain": [
       "'saya makan ayam'"
      ]
     },
     "execution_count": 18,
     "metadata": {},
     "output_type": "execute_result"
    }
   ],
   "source": [
    "s"
   ]
  },
  {
   "cell_type": "code",
   "execution_count": 19,
   "id": "3914f4a3-be5e-45bd-9c1b-174c2ebd55d2",
   "metadata": {},
   "outputs": [],
   "source": [
    "nim='200601110095'"
   ]
  },
  {
   "cell_type": "code",
   "execution_count": 20,
   "id": "f5f5ed35-4a51-453f-b581-bd8e7f470644",
   "metadata": {},
   "outputs": [
    {
     "data": {
      "text/plain": [
       "True"
      ]
     },
     "execution_count": 20,
     "metadata": {},
     "output_type": "execute_result"
    }
   ],
   "source": [
    "nim.isnumeric()"
   ]
  },
  {
   "cell_type": "code",
   "execution_count": 21,
   "id": "e7b4cad8-11b7-4f88-8e7b-b512923eed42",
   "metadata": {},
   "outputs": [],
   "source": [
    "nim='20060111009s'"
   ]
  },
  {
   "cell_type": "code",
   "execution_count": 22,
   "id": "695e5ccc-8a43-4e25-b44b-98201355a4f1",
   "metadata": {
    "tags": []
   },
   "outputs": [
    {
     "data": {
      "text/plain": [
       "False"
      ]
     },
     "execution_count": 22,
     "metadata": {},
     "output_type": "execute_result"
    }
   ],
   "source": [
    "nim.isnumeric()"
   ]
  }
 ],
 "metadata": {
  "kernelspec": {
   "display_name": "Python 3 (ipykernel)",
   "language": "python",
   "name": "python3"
  },
  "language_info": {
   "codemirror_mode": {
    "name": "ipython",
    "version": 3
   },
   "file_extension": ".py",
   "mimetype": "text/x-python",
   "name": "python",
   "nbconvert_exporter": "python",
   "pygments_lexer": "ipython3",
   "version": "3.9.7"
  }
 },
 "nbformat": 4,
 "nbformat_minor": 5
}
